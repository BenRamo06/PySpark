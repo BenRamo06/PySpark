{
 "cells": [
  {
   "cell_type": "code",
   "execution_count": 55,
   "metadata": {},
   "outputs": [],
   "source": [
    "from pyspark.sql import SparkSession\n",
    "from pyspark.sql.types import StructType, StructField\n",
    "from pyspark.sql.types import StringType, IntegerType\n",
    "from pyspark.sql.window import Window\n",
    "from pyspark.sql.functions import desc, row_number, col"
   ]
  },
  {
   "cell_type": "code",
   "execution_count": 61,
   "metadata": {},
   "outputs": [
    {
     "name": "stdout",
     "output_type": "stream",
     "text": [
      "+----------+--------+------+---+\n",
      "|      name|   type1|Attack|num|\n",
      "+----------+--------+------+---+\n",
      "|  Parasect|     Bug|    95|  1|\n",
      "| Dragonair|  Dragon|    84|  1|\n",
      "|    Raichu|Electric|    90|  1|\n",
      "|  Clefable|   Fairy|    70|  1|\n",
      "|    Mankey|Fighting|    80|  1|\n",
      "|    Magmar|    Fire|    95|  1|\n",
      "|    Gengar|   Ghost|    65|  1|\n",
      "| Exeggutor|   Grass|    95|  1|\n",
      "|   Rhyhorn|  Ground|    85|  1|\n",
      "|      Jynx|     Ice|    50|  1|\n",
      "|Kangaskhan|  Normal|    95|  1|\n",
      "| Nidoqueen|  Poison|    92|  1|\n",
      "|     Hypno| Psychic|    73|  1|\n",
      "|  Graveler|    Rock|    95|  1|\n",
      "| Poliwrath|   Water|    95|  1|\n",
      "+----------+--------+------+---+\n",
      "\n"
     ]
    }
   ],
   "source": [
    "path_file = '/home/benito.ramos/Desktop/GIT/PySpark/inputs/pokemon.csv'\n",
    "generations_get = [1,2]\n",
    "\n",
    "\n",
    "pyspark = SparkSession.builder.master(\"local\").appName(\"TestPyspark\").getOrCreate()\n",
    "\n",
    "file_load = pyspark.read.options(header=True).csv(path_file)\n",
    "\n",
    "filter_data = file_load.filter( (file_load.type1 != '')\n",
    "                               & (file_load.is_legendary == 0) \n",
    "                               & (file_load.generation == 1)\n",
    "                               & (~file_load.name.contains(\"Mega\"))\n",
    "                               ).select('name', 'type1', 'is_legendary', 'generation', 'Attack', 'Defense')\n",
    "\n",
    "\n",
    "gruop_data = filter_data.select(filter_data.name,\n",
    "                                filter_data.type1,\n",
    "                                filter_data.Attack,\n",
    "                                row_number().over(Window.partitionBy(filter_data.type1).orderBy(desc(filter_data.Attack))).alias('num')) \\\n",
    "                        .filter(col('num') == 1) \\\n",
    "                        .orderBy(filter_data.type1.asc())\n",
    "\n",
    "\n",
    "\n",
    "\n",
    "gruop_data.show()\n",
    "\n",
    "\n",
    "\n",
    "pyspark.stop()"
   ]
  },
  {
   "cell_type": "code",
   "execution_count": 68,
   "metadata": {},
   "outputs": [
    {
     "data": {
      "text/plain": [
       "'/home/benito.ramos/Distribution/spark'"
      ]
     },
     "execution_count": 68,
     "metadata": {},
     "output_type": "execute_result"
    }
   ],
   "source": [
    "import findspark\n",
    "findspark.find()\n",
    "# findspark.init()"
   ]
  },
  {
   "cell_type": "code",
   "execution_count": null,
   "metadata": {},
   "outputs": [],
   "source": []
  }
 ],
 "metadata": {
  "interpreter": {
   "hash": "916dbcbb3f70747c44a77c7bcd40155683ae19c65e1c03b4aa3499c5328201f1"
  },
  "kernelspec": {
   "display_name": "Python 3.8.10 64-bit",
   "name": "python3"
  },
  "language_info": {
   "codemirror_mode": {
    "name": "ipython",
    "version": 3
   },
   "file_extension": ".py",
   "mimetype": "text/x-python",
   "name": "python",
   "nbconvert_exporter": "python",
   "pygments_lexer": "ipython3",
   "version": "3.8.10"
  },
  "orig_nbformat": 4
 },
 "nbformat": 4,
 "nbformat_minor": 2
}

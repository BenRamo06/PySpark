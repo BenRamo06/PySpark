{
 "cells": [
  {
   "cell_type": "code",
   "execution_count": 184,
   "metadata": {},
   "outputs": [
    {
     "name": "stdout",
     "output_type": "stream",
     "text": [
      "+--------------------+-----+--------+------+-----------+---------+------------+----------+--------------+------------+-------------------+\n",
      "|                name| Tipo|   Tipo2|NewCol| TypeCustom|Attack100|AttackCustom|   GetDate|GetDate_Format|StringToDate|  StringToTimestamp|\n",
      "+--------------------+-----+--------+------+-----------+---------+------------+----------+--------------+------------+-------------------+\n",
      "|             Slowbro|Water| Psychic|     1| Both Types|    200.0|       HEAVY|2022-04-14|      14/04/22|  2022-01-01|2022-01-01 06:10:00|\n",
      "|GyaradosMega Gyar...|Water|    Dark|     1| Both Types|    170.0|       HEAVY|2022-04-14|      14/04/22|  2022-01-01|2022-01-01 06:10:00|\n",
      "| SlowbroMega Slowbro|Water| Psychic|     1| Both Types|    230.0|       LIGHT|2022-04-14|      14/04/22|  2022-01-01|2022-01-01 06:10:00|\n",
      "|           Wartortle|Water|    null|     1|Only Type 1|    165.0|       LIGHT|2022-04-14|      14/04/22|  2022-01-01|2022-01-01 06:10:00|\n",
      "|                Seel|Water|    null|     1|Only Type 1|    145.0|       LIGHT|2022-04-14|      14/04/22|  2022-01-01|2022-01-01 06:10:00|\n",
      "|BlastoiseMega Bla...|Water|    null|     1|Only Type 1|    235.0|       LIGHT|2022-04-14|      14/04/22|  2022-01-01|2022-01-01 06:10:00|\n",
      "|             Dewgong|Water|     Ice|     1| Both Types|    170.0|       HEAVY|2022-04-14|      14/04/22|  2022-01-01|2022-01-01 06:10:00|\n",
      "|            Cloyster|Water|     Ice|     1| Both Types|    185.0|       HEAVY|2022-04-14|      14/04/22|  2022-01-01|2022-01-01 06:10:00|\n",
      "|            Gyarados|Water|  Flying|     1| Both Types|    160.0|       LIGHT|2022-04-14|      14/04/22|  2022-01-01|2022-01-01 06:10:00|\n",
      "|              Krabby|Water|    null|     1|Only Type 1|    125.0|       LIGHT|2022-04-14|      14/04/22|  2022-01-01|2022-01-01 06:10:00|\n",
      "|             Poliwag|Water|    null|     1|Only Type 1|    140.0|       LIGHT|2022-04-14|      14/04/22|  2022-01-01|2022-01-01 06:10:00|\n",
      "|             Kingler|Water|    null|     1|Only Type 1|    150.0|       LIGHT|2022-04-14|      14/04/22|  2022-01-01|2022-01-01 06:10:00|\n",
      "|           Poliwrath|Water|Fighting|     1| Both Types|    170.0|       HEAVY|2022-04-14|      14/04/22|  2022-01-01|2022-01-01 06:10:00|\n",
      "|              Horsea|Water|    null|     1|Only Type 1|    170.0|       HEAVY|2022-04-14|      14/04/22|  2022-01-01|2022-01-01 06:10:00|\n",
      "|          Tentacruel|Water|  Poison|     1| Both Types|    180.0|       HEAVY|2022-04-14|      14/04/22|  2022-01-01|2022-01-01 06:10:00|\n",
      "|              Seadra|Water|    null|     1|Only Type 1|    195.0|       HEAVY|2022-04-14|      14/04/22|  2022-01-01|2022-01-01 06:10:00|\n",
      "|           Blastoise|Water|    null|     1|Only Type 1|    185.0|       HEAVY|2022-04-14|      14/04/22|  2022-01-01|2022-01-01 06:10:00|\n",
      "|             Goldeen|Water|    null|     1|Only Type 1|    135.0|       LIGHT|2022-04-14|      14/04/22|  2022-01-01|2022-01-01 06:10:00|\n",
      "|             Psyduck|Water|    null|     1|Only Type 1|    165.0|       LIGHT|2022-04-14|      14/04/22|  2022-01-01|2022-01-01 06:10:00|\n",
      "|             Seaking|Water|    null|     1|Only Type 1|    165.0|       LIGHT|2022-04-14|      14/04/22|  2022-01-01|2022-01-01 06:10:00|\n",
      "+--------------------+-----+--------+------+-----------+---------+------------+----------+--------------+------------+-------------------+\n",
      "only showing top 20 rows\n",
      "\n"
     ]
    }
   ],
   "source": [
    "from pyspark.sql import SparkSession\n",
    "from pyspark.sql.types import StructType, StructField\n",
    "from pyspark.sql.types import StringType, IntegerType, DateType\n",
    "from pyspark.sql.functions import lit, when,  current_date, date_format, desc, to_date, to_timestamp\n",
    "\n",
    "\n",
    "spark = SparkSession.builder.master(\"local\").appName('Group Something').getOrCreate()\n",
    "\n",
    "\n",
    "schema = StructType([StructField(\"id\", IntegerType(), True),\n",
    "                     StructField(\"value\", StringType(), True)\n",
    "                    ])\n",
    "\n",
    "\n",
    "data = spark.read.csv('/home/benito.ramos/Desktop/GIT/PySpark/inputs/pokemon.csv',header=True )\n",
    "\n",
    "data = data.select(\n",
    "                # Select a column of dataframe\n",
    "                   data.name,\n",
    "                # Select a column with new alias\n",
    "                   data.type1.alias(\"Tipo\"), \n",
    "                   data.type2.alias(\"Tipo2\"),\n",
    "                # create a column with a value   \n",
    "                   lit(1).alias(\"NewCol\").cast(IntegerType()),\n",
    "                # create a column with a case sentence    \n",
    "                   when(data.type1.isNotNull() & data.type2.isNull()  , 'Only Type 1')\n",
    "                   .when(data.type1.isNull() & data.type2.isNotNull()  , 'Only Type 2')\n",
    "                   .when(data.type1.isNotNull() & data.type2.isNotNull()  , 'Both Types')\n",
    "                   .otherwise('No se').alias('TypeCustom'),\n",
    "                # create a column with arithmetic operation\n",
    "                   (data.sp_attack + 100).alias('Attack100'),\n",
    "                # create a column with sentence between\n",
    "                   when((data.sp_attack + 100).between(170,200), 'HEAVY')\n",
    "                   .otherwise('LIGHT').alias('AttackCustom'),\n",
    "\n",
    "                # get current date\n",
    "                   current_date().alias('GetDate'),\n",
    "                # date to format string\n",
    "                   date_format(current_date(), 'dd/MM/yy').alias('GetDate_Format'),\n",
    "\n",
    "                # string to date\n",
    "                  to_date(lit('01-01-2022'), 'dd-MM-yyyy').alias(\"StringToDate\"),\n",
    "                # string to datetime\n",
    "                  to_timestamp(lit('01-01-2022 06:10:00'), 'dd-MM-yyyy HH:mm:ss').alias(\"StringToTimestamp\")\n",
    "\n",
    "\n",
    "\n",
    "                # Order by descendent for new column \"Tipo\"\n",
    "                  ).orderBy(desc(\"Tipo\"))\n",
    "\n",
    "\n",
    "# data.show()\n",
    "\n",
    "# partition = will take column Tipo to generate outputs it means every distinct value in this column will create a file.\n",
    "\n",
    "# mode= append, overwrite\n",
    "\n",
    "# data.write.partitionBy(\"Tipo\").option(\"header\",True).mode(\"overwrite\").csv('/home/benito.ramos/Desktop/GIT/PySpark/outputs/pokemon_out_\"')\n",
    "\n",
    "data.form\n",
    "\n",
    "spark.stop()\n",
    "\n",
    "\n"
   ]
  },
  {
   "cell_type": "code",
   "execution_count": null,
   "metadata": {},
   "outputs": [],
   "source": []
  },
  {
   "cell_type": "code",
   "execution_count": null,
   "metadata": {},
   "outputs": [],
   "source": []
  }
 ],
 "metadata": {
  "interpreter": {
   "hash": "916dbcbb3f70747c44a77c7bcd40155683ae19c65e1c03b4aa3499c5328201f1"
  },
  "kernelspec": {
   "display_name": "Python 3.8.10 64-bit",
   "name": "python3"
  },
  "language_info": {
   "codemirror_mode": {
    "name": "ipython",
    "version": 3
   },
   "file_extension": ".py",
   "mimetype": "text/x-python",
   "name": "python",
   "nbconvert_exporter": "python",
   "pygments_lexer": "ipython3",
   "version": "3.8.10"
  },
  "orig_nbformat": 4
 },
 "nbformat": 4,
 "nbformat_minor": 2
}

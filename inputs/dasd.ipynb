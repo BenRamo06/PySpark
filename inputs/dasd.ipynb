{
 "cells": [
  {
   "cell_type": "code",
   "execution_count": 1,
   "metadata": {},
   "outputs": [],
   "source": [
    "import pyspark\n",
    "from pyspark.sql import SparkSession, Row\n",
    "from pyspark.sql.types import StructType, StructField, StringType, IntegerType\n",
    "\n",
    "spark = SparkSession.builder.appName('Test').getOrCreate()"
   ]
  },
  {
   "cell_type": "code",
   "execution_count": 2,
   "metadata": {},
   "outputs": [],
   "source": [
    "df = spark.read.options(delimiter=',').text('/home/benito.ramos/Desktop/GIT/PySpark/inputs/data_movies')"
   ]
  },
  {
   "cell_type": "code",
   "execution_count": 14,
   "metadata": {},
   "outputs": [
    {
     "name": "stdout",
     "output_type": "stream",
     "text": [
      "+------------------+\n",
      "|               _c0|\n",
      "+------------------+\n",
      "|        HAN SOLO,4|\n",
      "|        HAN SOLO,5|\n",
      "|        HAN SOLO,6|\n",
      "|        HAN SOLO,7|\n",
      "|  LUKE SKYWALWER,4|\n",
      "|  LUKE SKYWALWER,5|\n",
      "|  LUKE SKYWALWER,6|\n",
      "|  LUKE SKYWALWER,7|\n",
      "|  LUKE SKYWALWER,8|\n",
      "|ANAKIN SKYWALKER,1|\n",
      "|ANAKIN SKYWALKER,2|\n",
      "|ANAKIN SKYWALKER,3|\n",
      "|     DARTH VADER,4|\n",
      "|     DARTH VADER,5|\n",
      "|     DARTH VADER,6|\n",
      "|     DARTH VADER,7|\n",
      "|     DARTH VADER,8|\n",
      "|     DARTH VADER,9|\n",
      "+------------------+\n",
      "\n"
     ]
    }
   ],
   "source": [
    "df.show()"
   ]
  },
  {
   "cell_type": "code",
   "execution_count": null,
   "metadata": {},
   "outputs": [],
   "source": []
  }
 ],
 "metadata": {
  "interpreter": {
   "hash": "916dbcbb3f70747c44a77c7bcd40155683ae19c65e1c03b4aa3499c5328201f1"
  },
  "kernelspec": {
   "display_name": "Python 3.8.10 64-bit",
   "name": "python3"
  },
  "language_info": {
   "codemirror_mode": {
    "name": "ipython",
    "version": 3
   },
   "file_extension": ".py",
   "mimetype": "text/x-python",
   "name": "python",
   "nbconvert_exporter": "python",
   "pygments_lexer": "ipython3",
   "version": "3.8.10"
  },
  "orig_nbformat": 4
 },
 "nbformat": 4,
 "nbformat_minor": 2
}

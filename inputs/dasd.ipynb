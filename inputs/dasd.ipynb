{
 "cells": [
  {
   "cell_type": "code",
   "execution_count": 52,
   "metadata": {},
   "outputs": [
    {
     "name": "stdout",
     "output_type": "stream",
     "text": [
      "('Gutenberg’s', 3)\n",
      "('Adventures', 2)\n",
      "('Wonderland', 2)\n",
      "('Alice’s', 1)\n",
      "('in', 2)\n",
      "('Project', 3)\n"
     ]
    }
   ],
   "source": [
    "from pyspark.sql import SparkSession\n",
    "spark = SparkSession.builder.appName('SparkByExamples.com').getOrCreate()\n",
    "\n",
    "data = [('Project', 1),\n",
    "('Gutenberg’s', 1),\n",
    "('Alice’s', 1),\n",
    "('Adventures', 1),\n",
    "('in', 1),\n",
    "('Wonderland', 1),\n",
    "('Project', 1),\n",
    "('Gutenberg’s', 1),\n",
    "('Adventures', 1),\n",
    "('in', 1),\n",
    "('Wonderland', 1),\n",
    "('Project', 1),\n",
    "('Gutenberg’s', 1)]\n",
    "\n",
    "rdd=spark.sparkContext.parallelize(data)\n",
    "\n",
    "rdd2=rdd.reduceByKey(lambda a,b: a+b)\n",
    "for element in rdd2.collect():\n",
    "    print(element)\n",
    "\n",
    "\n",
    "spark.stop()"
   ]
  },
  {
   "cell_type": "code",
   "execution_count": null,
   "metadata": {},
   "outputs": [],
   "source": [
    "\n",
    "  "
   ]
  },
  {
   "cell_type": "code",
   "execution_count": null,
   "metadata": {},
   "outputs": [],
   "source": []
  }
 ],
 "metadata": {
  "interpreter": {
   "hash": "916dbcbb3f70747c44a77c7bcd40155683ae19c65e1c03b4aa3499c5328201f1"
  },
  "kernelspec": {
   "display_name": "Python 3.8.10 64-bit",
   "name": "python3"
  },
  "language_info": {
   "codemirror_mode": {
    "name": "ipython",
    "version": 3
   },
   "file_extension": ".py",
   "mimetype": "text/x-python",
   "name": "python",
   "nbconvert_exporter": "python",
   "pygments_lexer": "ipython3",
   "version": "3.8.10"
  },
  "orig_nbformat": 4
 },
 "nbformat": 4,
 "nbformat_minor": 2
}

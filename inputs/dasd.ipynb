{
 "cells": [
  {
   "cell_type": "code",
   "execution_count": 66,
   "metadata": {},
   "outputs": [
    {
     "name": "stdout",
     "output_type": "stream",
     "text": [
      "+---+--------------------+\n",
      "| _1|                  _2|\n",
      "+---+--------------------+\n",
      "|  1|[Articuno, Zapdos...|\n",
      "|  2|[Raikou, Entei, S...|\n",
      "|  3|[Regirock, Regice...|\n",
      "|  4|[Uxie, Mesprit, A...|\n",
      "|  5|[Victini, Cobalio...|\n",
      "|  6|[Xerneas, Yveltal...|\n",
      "|  7|[Tapu Koko, Tapu ...|\n",
      "+---+--------------------+\n",
      "\n"
     ]
    }
   ],
   "source": [
    "from pyspark.sql import SparkSession\n",
    "from pyspark.sql.types import StructType, StructField\n",
    "from pyspark.sql.types import StringType, IntegerType, DateType\n",
    "from pyspark.sql.functions import col, lit, when,  current_date, date_format, desc, asc, to_date, to_timestamp, count, sum\n",
    "\n",
    "\n",
    "spark = SparkSession.builder.master(\"local\").appName('Group Something').getOrCreate()\n",
    "\n",
    "\n",
    "schema = StructType([StructField(\"id\", IntegerType(), True),\n",
    "                     StructField(\"value\", StringType(), True)\n",
    "                    ])\n",
    "\n",
    "\n",
    "data = spark.read.csv('/home/benito.ramos/Desktop/GIT/PySpark/inputs/pokemon.csv',header=True )\n",
    "\n",
    "rdd_data = data.rdd.filter(lambda x: int(x.is_legendary) == 1)\n",
    "\n",
    "rdd_gen = rdd_data.map(lambda x: (x.generation, x.name))\n",
    "\n",
    "# rdd_group = rdd_gen.groupByKey().map(lambda x: (x[0], list(x[1])))\n",
    "rdd_group = rdd_gen.groupByKey().mapValues(list)\n",
    "\n",
    "\n",
    "df_pokemon = rdd_group.toDF()\n",
    "\n",
    "\n",
    "df_pokemon.show()\n",
    "\n",
    "spark.stop()"
   ]
  },
  {
   "cell_type": "code",
   "execution_count": null,
   "metadata": {},
   "outputs": [],
   "source": []
  }
 ],
 "metadata": {
  "interpreter": {
   "hash": "916dbcbb3f70747c44a77c7bcd40155683ae19c65e1c03b4aa3499c5328201f1"
  },
  "kernelspec": {
   "display_name": "Python 3.8.10 64-bit",
   "name": "python3"
  },
  "language_info": {
   "codemirror_mode": {
    "name": "ipython",
    "version": 3
   },
   "file_extension": ".py",
   "mimetype": "text/x-python",
   "name": "python",
   "nbconvert_exporter": "python",
   "pygments_lexer": "ipython3",
   "version": "3.8.10"
  },
  "orig_nbformat": 4
 },
 "nbformat": 4,
 "nbformat_minor": 2
}
